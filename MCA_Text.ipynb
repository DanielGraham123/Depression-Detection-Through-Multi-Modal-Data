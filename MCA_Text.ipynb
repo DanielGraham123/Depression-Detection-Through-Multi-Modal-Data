{
  "nbformat": 4,
  "nbformat_minor": 0,
  "metadata": {
    "colab": {
      "name": "MCA_Text.ipynb",
      "provenance": [],
      "include_colab_link": true
    },
    "kernelspec": {
      "name": "python3",
      "display_name": "Python 3"
    }
  },
  "cells": [
    {
      "cell_type": "markdown",
      "metadata": {
        "id": "view-in-github",
        "colab_type": "text"
      },
      "source": [
        "<a href=\"https://colab.research.google.com/github/notmanan/Depression-Detection-Through-Multi-Modal-Data/blob/master/MCA_Text.ipynb\" target=\"_parent\"><img src=\"https://colab.research.google.com/assets/colab-badge.svg\" alt=\"Open In Colab\"/></a>"
      ]
    },
    {
      "cell_type": "code",
      "metadata": {
        "id": "ZGgide74kahW",
        "colab_type": "code",
        "outputId": "f56947c0-6967-473b-f895-923011c32b2b",
        "colab": {
          "base_uri": "https://localhost:8080/",
          "height": 35
        }
      },
      "source": [
        "from google.colab import drive\n",
        "drive.mount('/content/drive')"
      ],
      "execution_count": 0,
      "outputs": [
        {
          "output_type": "stream",
          "text": [
            "Mounted at /content/drive\n"
          ],
          "name": "stdout"
        }
      ]
    },
    {
      "cell_type": "code",
      "metadata": {
        "id": "i2SuoSaxkuOu",
        "colab_type": "code",
        "outputId": "18e170a7-4373-4ed0-966b-996ca4c11400",
        "colab": {
          "base_uri": "https://localhost:8080/",
          "height": 228
        }
      },
      "source": [
        "import numpy as np\n",
        "import pandas as pd\n",
        "from gensim.models.keyedvectors import KeyedVectors\n",
        "from nltk.corpus import stopwords\n",
        "\n",
        "dataset1 = np.array(pd.read_csv('/content/drive/My Drive/MCA Dataset/dev_split_Depression_AVEC2017.csv',delimiter=',',encoding='utf-8'))[:, 0:2]\n",
        "dataset2 = np.array(pd.read_csv('/content/drive/My Drive/MCA Dataset/full_test_split.csv',delimiter=',',encoding='utf-8'))[:, 0:2]\n",
        "dataset3 = np.array(pd.read_csv('/content/drive/My Drive/MCA Dataset/train_split_Depression_AVEC2017.csv',delimiter=',',encoding='utf-8'))[:, 0:2]\n",
        "\n",
        "dataset = np.concatenate((dataset1, np.concatenate((dataset2, dataset3))))\n",
        "pos = []\n",
        "neg = []\n",
        "\n",
        "\n",
        "for i in range(len(dataset)):\n",
        "    if dataset[i][0]<=310 and dataset[i][0]>=300:\n",
        "        if(dataset[i][1] == 1):\n",
        "            neg.append(dataset[i][0])\n",
        "        else:\n",
        "            pos.append(dataset[i][0])\n",
        "    elif dataset[i][0]<=355 and dataset[i][0]>=345:\n",
        "        if(dataset[i][1] == 1):\n",
        "            neg.append(dataset[i][0])\n",
        "        else:\n",
        "            pos.append(dataset[i][0])\n",
        "            \n",
        "pos = np.array(pos)\n",
        "neg = np.array(neg)\n",
        "\n",
        "Data = []\n",
        "Y = []\n",
        "\n",
        "for i in range(0, len(pos)):\n",
        "    Y.append(0)\n",
        "    fileName = \"/content/drive/My Drive/MCA Dataset/positive_data/\" + str(int(pos[i])) + \"_TRANSCRIPT.csv\"\n",
        "    Data.append(np.array(pd.read_csv(fileName,delimiter='\\t',encoding='utf-8'))[:, 2:4])\n",
        "    \n",
        "for i in range(0, len(neg)):\n",
        "    Y.append(1)\n",
        "    fileName = \"/content/drive/My Drive/MCA Dataset/negative_data/\" + str(int(neg[i])) + \"_TRANSCRIPT.csv\"\n",
        "    Data.append(np.array(pd.read_csv(fileName,delimiter='\\t',encoding='utf-8'))[:, 2:4])\n",
        "    \n",
        "Y = np.array(Y)\n",
        "Data2 = []\n",
        "\n",
        "for i in range(0, len(Data)):\n",
        "    script = []\n",
        "    for k in range(1, len(Data[i])):\n",
        "        if(Data[i][k][0] == \"Participant\"):\n",
        "            script.append(Data[i][k][1])\n",
        "    Data2.append(script)\n",
        "        \n",
        "Data2 = np.array(Data2)\n",
        "\n",
        "model = KeyedVectors.load_word2vec_format('/content/drive/My Drive/MCA Dataset/GoogleNews-vectors-negative300.bin', binary=True)\n",
        "\n",
        "stop_words = set(stopwords.words('english'))\n",
        "\n",
        "\n",
        "def remove_StopWOrds(sentence):\n",
        "    filtered_sentence = [] \n",
        "    for w in sentence: \n",
        "        if w not in stop_words: \n",
        "            filtered_sentence.append(w)\n",
        "    \n",
        "    return filtered_sentence\n",
        "\n",
        "\n",
        "max_num_words = 15\n",
        "max_num_sentence = 200\n",
        "finalMatrix = np.zeros((Data2.shape[0], max_num_sentence, max_num_words))\n",
        "print(finalMatrix.shape)\n",
        "for k in range(Data2.shape[0]):\n",
        "    for i in range(min(max_num_sentence, len(Data2[k][0]))):\n",
        "    \tsentence = Data2[k][i].split(\" \")\n",
        "    \tsentence = remove_StopWOrds(sentence)\n",
        "    \tfor j in range(min(max_num_words, len(sentence))):\n",
        "    \t\ttry:\n",
        "    \t\t\tfinalMatrix[k][i][j] = np.average(np.array(model[sentence[j]]))\n",
        "    \t\texcept:\n",
        "    \t\t\tcontinue\n",
        "\n",
        "X = np.zeros((len(Data2), max_num_sentence*max_num_words))\n",
        "for i in range(len(finalMatrix)):\n",
        "    X[i] = finalMatrix[i].flatten().reshape(1, -1)\n",
        "\n",
        "from sklearn.ensemble import RandomForestClassifier\n",
        "\n",
        "clf1 = RandomForestClassifier()\n",
        "clf1.fit(X,Y)"
      ],
      "execution_count": 0,
      "outputs": [
        {
          "output_type": "stream",
          "text": [
            "/usr/local/lib/python3.6/dist-packages/smart_open/smart_open_lib.py:402: UserWarning: This function is deprecated, use smart_open.open instead. See the migration notes for details: https://github.com/RaRe-Technologies/smart_open/blob/master/README.rst#migrating-to-the-new-open-function\n",
            "  'See the migration notes for details: %s' % _MIGRATION_NOTES_URL\n"
          ],
          "name": "stderr"
        },
        {
          "output_type": "stream",
          "text": [
            "(22, 200, 15)\n"
          ],
          "name": "stdout"
        },
        {
          "output_type": "execute_result",
          "data": {
            "text/plain": [
              "RandomForestClassifier(bootstrap=True, ccp_alpha=0.0, class_weight=None,\n",
              "                       criterion='gini', max_depth=None, max_features='auto',\n",
              "                       max_leaf_nodes=None, max_samples=None,\n",
              "                       min_impurity_decrease=0.0, min_impurity_split=None,\n",
              "                       min_samples_leaf=1, min_samples_split=2,\n",
              "                       min_weight_fraction_leaf=0.0, n_estimators=100,\n",
              "                       n_jobs=None, oob_score=False, random_state=None,\n",
              "                       verbose=0, warm_start=False)"
            ]
          },
          "metadata": {
            "tags": []
          },
          "execution_count": 9
        }
      ]
    },
    {
      "cell_type": "code",
      "metadata": {
        "id": "74wqgvfJmF3u",
        "colab_type": "code",
        "colab": {}
      },
      "source": [
        "import nltk"
      ],
      "execution_count": 0,
      "outputs": []
    },
    {
      "cell_type": "code",
      "metadata": {
        "id": "FECbYIy7mYri",
        "colab_type": "code",
        "outputId": "a4462dc3-03a1-46a2-a58a-2a5680ab62a2",
        "colab": {
          "base_uri": "https://localhost:8080/",
          "height": 69
        }
      },
      "source": [
        "nltk.download('stopwords')"
      ],
      "execution_count": 0,
      "outputs": [
        {
          "output_type": "stream",
          "text": [
            "[nltk_data] Downloading package stopwords to /root/nltk_data...\n",
            "[nltk_data]   Unzipping corpora/stopwords.zip.\n"
          ],
          "name": "stdout"
        },
        {
          "output_type": "execute_result",
          "data": {
            "text/plain": [
              "True"
            ]
          },
          "metadata": {
            "tags": []
          },
          "execution_count": 6
        }
      ]
    },
    {
      "cell_type": "code",
      "metadata": {
        "id": "bsycSabTlQEE",
        "colab_type": "code",
        "colab": {}
      },
      "source": [
        "import os\n",
        "os.chdir('drive/My Drive/MCA Dataset')"
      ],
      "execution_count": 0,
      "outputs": []
    },
    {
      "cell_type": "code",
      "metadata": {
        "id": "e6oAJCsNS4JY",
        "colab_type": "code",
        "outputId": "fa31de23-f9ab-4c7a-aa70-cbe34e1c2815",
        "colab": {
          "base_uri": "https://localhost:8080/",
          "height": 141
        }
      },
      "source": [
        "import numpy as np\n",
        "import pandas as pd\n",
        "from gensim.models.keyedvectors import KeyedVectors\n",
        "from nltk.corpus import stopwords\n",
        "\n",
        "dataset1 = np.array(pd.read_csv('/content/drive/My Drive/MCA Dataset/dev_split_Depression_AVEC2017.csv',delimiter=',',encoding='utf-8'))[:, 0:2]\n",
        "dataset2 = np.array(pd.read_csv('/content/drive/My Drive/MCA Dataset/full_test_split.csv',delimiter=',',encoding='utf-8'))[:, 0:2]\n",
        "dataset3 = np.array(pd.read_csv('/content/drive/My Drive/MCA Dataset/train_split_Depression_AVEC2017.csv',delimiter=',',encoding='utf-8'))[:, 0:2]\n",
        "\n",
        "dataset = np.concatenate((dataset1, np.concatenate((dataset2, dataset3))))\n",
        "pos = []\n",
        "neg = []\n",
        "\n",
        "def checkPosNeg(dataset, index):\n",
        "    for i in range(0, len(dataset)):\n",
        "        if(dataset[i][0] == index):\n",
        "            return dataset[i][1]\n",
        "    return 0\n",
        "\n",
        "for i in range(len(dataset)):\n",
        "    if dataset[i][0]<=310 and dataset[i][0]>=300:\n",
        "        if(dataset[i][1] == 1):\n",
        "            neg.append(dataset[i][0])\n",
        "        else:\n",
        "            pos.append(dataset[i][0])\n",
        "    elif dataset[i][0]<=355 and dataset[i][0]>=345:\n",
        "        if(dataset[i][1] == 1):\n",
        "            neg.append(dataset[i][0])\n",
        "        else:\n",
        "            pos.append(dataset[i][0])\n",
        "            \n",
        "pos = np.array(pos)\n",
        "neg = np.array(neg)\n",
        "\n",
        "Data = []\n",
        "Y = []\n",
        "\n",
        "Data_test = []\n",
        "Y_test = []\n",
        "\n",
        "for i in range(0, len(dataset3)):\n",
        "    Y.append(checkPosNeg(dataset, dataset3[i][0]))\n",
        "    fileName = \"/content/drive/My Drive/MCA Dataset/train_data/\" + str(int(dataset3[i][0])) + \"_TRANSCRIPT.csv\"\n",
        "    Data.append(np.array(pd.read_csv(fileName,delimiter='\\t',encoding='utf-8'))[:, 2:4])\n",
        "    \n",
        "for i in range(0, len(dataset1)):\n",
        "    Y.append(checkPosNeg(dataset, dataset1[i][0]))\n",
        "    fileName = \"/content/drive/My Drive/MCA Dataset/dev_data/\" + str(int(dataset1[i][0])) + \"_TRANSCRIPT.csv\"\n",
        "    Data.append(np.array(pd.read_csv(fileName,delimiter='\\t',encoding='utf-8'))[:, 2:4])\n",
        "    \n",
        "for i in range(0, len(dataset2)):\n",
        "    Y_test.append(checkPosNeg(dataset, dataset2[i][0]))\n",
        "    fileName = \"/content/drive/My Drive/MCA Dataset/test_data/\" + str(int(dataset2[i][0])) + \"_TRANSCRIPT.csv\"\n",
        "    Data_test.append(np.array(pd.read_csv(fileName,delimiter='\\t',encoding='utf-8'))[:, 2:4])\n",
        "\n",
        "    \n",
        "Y = np.array(Y)\n",
        "Data2 = []\n",
        "\n",
        "Data2_test = []\n",
        "Y_test = np.array(Y_test)\n",
        "\n",
        "for i in range(0, len(Data)):\n",
        "    script = []\n",
        "    for k in range(1, len(Data[i])):\n",
        "        if(Data[i][k][0] == \"Participant\"):\n",
        "            script.append(Data[i][k][1])\n",
        "    Data2.append(script)\n",
        "    \n",
        "for i in range(0, len(Data_test)):\n",
        "    script = []\n",
        "    for k in range(1, len(Data_test[i])):\n",
        "        if(Data_test[i][k][0] == \"Participant\"):\n",
        "            script.append(Data_test[i][k][1])\n",
        "    Data2_test.append(script)\n",
        "        \n",
        "Data2 = np.array(Data2)\n",
        "Data2_test = np.array(Data2_test)\n",
        "\n",
        "model = KeyedVectors.load_word2vec_format('/content/drive/My Drive/MCA Dataset/GoogleNews-vectors-negative300.bin', binary=True)\n",
        "\n",
        "stop_words = set(stopwords.words('english'))\n",
        "\n",
        "\n",
        "def remove_StopWOrds(sentence):\n",
        "    filtered_sentence = [] \n",
        "    for w in sentence: \n",
        "        if w not in stop_words: \n",
        "            filtered_sentence.append(w)\n",
        "    \n",
        "    return filtered_sentence\n",
        "\n",
        "def checkAcc(Y_pred, Y_test):\n",
        "    correct = 0\n",
        "    for i in range(len(Y_pred)):\n",
        "        if(Y_pred[i] == Y_test[i]):\n",
        "            correct+=1\n",
        "    \n",
        "    return float(correct)/len(Y_pred)\n",
        "\n",
        "\n",
        "max_num_words = 15\n",
        "max_num_sentence = 200\n",
        "\n",
        "#train_data\n",
        "finalMatrix = np.zeros((Data2.shape[0], max_num_sentence, max_num_words))\n",
        "print(finalMatrix.shape)\n",
        "for k in range(Data2.shape[0]):\n",
        "    for i in range(min(max_num_sentence, len(Data2[k][0]))):\n",
        "    \tsentence = Data2[k][i].split(\" \")\n",
        "    \tsentence = remove_StopWOrds(sentence)\n",
        "    \tfor j in range(min(max_num_words, len(sentence))):\n",
        "    \t\ttry:\n",
        "    \t\t\tfinalMatrix[k][i][j] = np.average(np.array(model[sentence[j]]))\n",
        "    \t\texcept:\n",
        "    \t\t\tcontinue\n",
        "X = np.zeros((len(Data2), max_num_sentence*max_num_words))\n",
        "for i in range(len(finalMatrix)):\n",
        "    X[i] = finalMatrix[i].flatten().reshape(1, -1)\n",
        " \n",
        "#Test_data\n",
        "finalMatrix_test = np.zeros((Data2_test.shape[0], max_num_sentence, max_num_words))\n",
        "print(finalMatrix_test.shape)\n",
        "for k in range(Data2_test.shape[0]):\n",
        "    for i in range(min(max_num_sentence, len(Data2_test[k][0]))):\n",
        "    \tsentence = Data2_test[k][i].split(\" \")\n",
        "    \tsentence = remove_StopWOrds(sentence)\n",
        "    \tfor j in range(min(max_num_words, len(sentence))):\n",
        "    \t\ttry:\n",
        "    \t\t\tfinalMatrix_test[k][i][j] = np.average(np.array(model[sentence[j]]))\n",
        "    \t\texcept:\n",
        "    \t\t\tcontinue\n",
        "X_test = np.zeros((len(Data2_test), max_num_sentence*max_num_words))\n",
        "for i in range(len(finalMatrix_test)):\n",
        "    X_test[i] = finalMatrix_test[i].flatten().reshape(1, -1)\n",
        "\n",
        "from sklearn.ensemble import RandomForestClassifier\n",
        "clf1 = RandomForestClassifier()\n",
        "clf1.fit(X,Y)\n",
        "Y_pred = clf1.predict(X_test)\n",
        "print(\"Accuracy random forests: \" + str(checkAcc(Y_pred, Y_test)))\n",
        "\n",
        "from sklearn.svm import SVC\n",
        "classifier = SVC(kernel = 'rbf', random_state = 0)\n",
        "classifier.fit(X, Y)\n",
        "\n",
        "y_pred = classifier.predict(X_test)\n",
        "print(\"Accuracy SVM: \" + str(checkAcc(y_pred, Y_test)))"
      ],
      "execution_count": 0,
      "outputs": [
        {
          "output_type": "stream",
          "text": [
            "/usr/local/lib/python3.6/dist-packages/smart_open/smart_open_lib.py:402: UserWarning: This function is deprecated, use smart_open.open instead. See the migration notes for details: https://github.com/RaRe-Technologies/smart_open/blob/master/README.rst#migrating-to-the-new-open-function\n",
            "  'See the migration notes for details: %s' % _MIGRATION_NOTES_URL\n"
          ],
          "name": "stderr"
        },
        {
          "output_type": "stream",
          "text": [
            "(137, 200, 15)\n",
            "(41, 200, 15)\n",
            "Accuracy random forests: 0.6341463414634146\n",
            "Accuracy SVM: 0.7073170731707317\n"
          ],
          "name": "stdout"
        }
      ]
    },
    {
      "cell_type": "code",
      "metadata": {
        "id": "9MCCQuluazRM",
        "colab_type": "code",
        "outputId": "3c45688b-5ba7-43d3-b4ee-a72630c9c2e6",
        "colab": {
          "base_uri": "https://localhost:8080/",
          "height": 35
        }
      },
      "source": [
        "classifier.score(X_test,Y_test)"
      ],
      "execution_count": 0,
      "outputs": [
        {
          "output_type": "execute_result",
          "data": {
            "text/plain": [
              "0.7073170731707317"
            ]
          },
          "metadata": {
            "tags": []
          },
          "execution_count": 14
        }
      ]
    },
    {
      "cell_type": "code",
      "metadata": {
        "id": "OK3L7F1XXZYS",
        "colab_type": "code",
        "outputId": "a67f9bbb-546c-4c70-8db0-7e030b250fe8",
        "colab": {
          "base_uri": "https://localhost:8080/",
          "height": 52
        }
      },
      "source": [
        "y_pred = classifier.predict(X)\n",
        "print(\"Accuracy SVM: \" + str(checkAcc(y_pred, Y)))\n",
        "\n",
        "Y_pred = clf1.predict(X)\n",
        "print(\"Accuracy random forests: \" + str(checkAcc(Y_pred, Y)))\n"
      ],
      "execution_count": 0,
      "outputs": [
        {
          "output_type": "stream",
          "text": [
            "Accuracy SVM: 0.7372262773722628\n",
            "Accuracy random forests: 1.0\n"
          ],
          "name": "stdout"
        }
      ]
    },
    {
      "cell_type": "code",
      "metadata": {
        "id": "prg0GI-7ZzQr",
        "colab_type": "code",
        "outputId": "fc462ec4-ee71-4887-a667-eb249666965a",
        "colab": {
          "base_uri": "https://localhost:8080/",
          "height": 89
        }
      },
      "source": [
        "import sklearn.metrics\n",
        "y_pred = classifier.predict(X_test)\n",
        "print(sklearn.metrics.precision_score(Y_test, y_pred))"
      ],
      "execution_count": 0,
      "outputs": [
        {
          "output_type": "stream",
          "text": [
            "0.0\n"
          ],
          "name": "stdout"
        },
        {
          "output_type": "stream",
          "text": [
            "/usr/local/lib/python3.6/dist-packages/sklearn/metrics/_classification.py:1272: UndefinedMetricWarning: Precision is ill-defined and being set to 0.0 due to no predicted samples. Use `zero_division` parameter to control this behavior.\n",
            "  _warn_prf(average, modifier, msg_start, len(result))\n"
          ],
          "name": "stderr"
        }
      ]
    },
    {
      "cell_type": "code",
      "metadata": {
        "id": "4qVGWO7SaP3T",
        "colab_type": "code",
        "outputId": "13958917-35e0-4a1d-8751-9cacf61484be",
        "colab": {
          "base_uri": "https://localhost:8080/",
          "height": 52
        }
      },
      "source": [
        "print(len(Y_pred))\n",
        "print(len(Y_test))"
      ],
      "execution_count": 0,
      "outputs": [
        {
          "output_type": "stream",
          "text": [
            "137\n",
            "41\n"
          ],
          "name": "stdout"
        }
      ]
    },
    {
      "cell_type": "code",
      "metadata": {
        "id": "qnGNZmRegPbZ",
        "colab_type": "code",
        "outputId": "ded233ac-660d-4267-978b-27e7318d0e10",
        "colab": {
          "base_uri": "https://localhost:8080/",
          "height": 235
        }
      },
      "source": [
        "import numpy as np\n",
        "import pandas as pd\n",
        "from gensim.models.keyedvectors import KeyedVectors\n",
        "from nltk.corpus import stopwords\n",
        "\n",
        "dataset1 = np.array(pd.read_csv('/content/drive/My Drive/MCA Dataset/dev_split_Depression_AVEC2017.csv',delimiter=',',encoding='utf-8'))[:, 0:2]\n",
        "dataset2 = np.array(pd.read_csv('/content/drive/My Drive/MCA Dataset/full_test_split.csv',delimiter=',',encoding='utf-8'))[:, 0:2]\n",
        "dataset3 = np.array(pd.read_csv('/content/drive/My Drive/MCA Dataset/train_split_Depression_AVEC2017.csv',delimiter=',',encoding='utf-8'))[:, 0:2]\n",
        "\n",
        "dataset = np.concatenate((dataset1, np.concatenate((dataset2, dataset3))))\n",
        "pos = []\n",
        "neg = []\n",
        "\n",
        "countPos = 0\n",
        "\n",
        "def checkPosNeg(dataset, index):\n",
        "    for i in range(0, len(dataset)):\n",
        "        if(dataset[i][0] == index):\n",
        "            return dataset[i][1]\n",
        "    return 0\n",
        "\n",
        "for i in range(len(dataset)):\n",
        "    if dataset[i][0]<=310 and dataset[i][0]>=300:\n",
        "        if(dataset[i][1] == 1):\n",
        "            neg.append(dataset[i][0])\n",
        "        else:\n",
        "            pos.append(dataset[i][0])\n",
        "    elif dataset[i][0]<=355 and dataset[i][0]>=345:\n",
        "        if(dataset[i][1] == 1):\n",
        "            neg.append(dataset[i][0])\n",
        "        else:\n",
        "            pos.append(dataset[i][0])\n",
        "            \n",
        "pos = np.array(pos)\n",
        "neg = np.array(neg)\n",
        "\n",
        "Data = []\n",
        "Y = []\n",
        "\n",
        "Data_test = []\n",
        "Y_test = []\n",
        "\n",
        "for i in range(0, len(dataset3)):\n",
        "    val = checkPosNeg(dataset, dataset3[i][0])\n",
        "    if(val == 0 and countPos>37):\n",
        "        continue\n",
        "    Y.append(val)\n",
        "    if(Y[i] == 0):\n",
        "        countPos+=1\n",
        "    \n",
        "    fileName = \"/content/drive/My Drive/MCA Dataset/train_data/\" + str(int(dataset3[i][0])) + \"_TRANSCRIPT.csv\"\n",
        "    Data.append(np.array(pd.read_csv(fileName,delimiter='\\t',encoding='utf-8'))[:, 2:4])\n",
        "    \n",
        "for i in range(0, len(dataset1)):\n",
        "    val = checkPosNeg(dataset, dataset1[i][0])\n",
        "    if(val == 0):\n",
        "        continue\n",
        "    Y.append(val)\n",
        "    fileName = \"/content/drive/My Drive/MCA Dataset/dev_data/\" + str(int(dataset1[i][0])) + \"_TRANSCRIPT.csv\"\n",
        "    Data.append(np.array(pd.read_csv(fileName,delimiter='\\t',encoding='utf-8'))[:, 2:4])\n",
        "    \n",
        "for i in range(0, len(dataset2)):\n",
        "    Y_test.append(checkPosNeg(dataset, dataset2[i][0]))\n",
        "    fileName = \"/content/drive/My Drive/MCA Dataset/test_data/\" + str(int(dataset2[i][0])) + \"_TRANSCRIPT.csv\"\n",
        "    Data_test.append(np.array(pd.read_csv(fileName,delimiter='\\t',encoding='utf-8'))[:, 2:4])\n",
        "\n",
        "    \n",
        "Y = np.array(Y)\n",
        "Data2 = []\n",
        "\n",
        "Data2_test = []\n",
        "Y_test = np.array(Y_test)\n",
        "\n",
        "for i in range(0, len(Data)):\n",
        "    script = []\n",
        "    for k in range(1, len(Data[i])):\n",
        "        if(Data[i][k][0] == \"Participant\"):\n",
        "            script.append(Data[i][k][1])\n",
        "    Data2.append(script)\n",
        "    \n",
        "for i in range(0, len(Data_test)):\n",
        "    script = []\n",
        "    for k in range(1, len(Data_test[i])):\n",
        "        if(Data_test[i][k][0] == \"Participant\"):\n",
        "            script.append(Data_test[i][k][1])\n",
        "    Data2_test.append(script)\n",
        "        \n",
        "Data2 = np.array(Data2)\n",
        "Data2_test = np.array(Data2_test)\n",
        "\n",
        "model = KeyedVectors.load_word2vec_format('/content/drive/My Drive/MCA Dataset/GoogleNews-vectors-negative300.bin', binary=True)\n",
        "\n",
        "stop_words = set(stopwords.words('english'))\n",
        "\n",
        "\n",
        "def remove_StopWOrds(sentence):\n",
        "    filtered_sentence = [] \n",
        "    for w in sentence: \n",
        "        if w not in stop_words: \n",
        "            filtered_sentence.append(w)\n",
        "    \n",
        "    return filtered_sentence\n",
        "\n",
        "def checkAcc(Y_pred, Y_test):\n",
        "    correct = 0\n",
        "    for i in range(len(Y_pred)):\n",
        "        if(Y_pred[i] == Y_test[i]):\n",
        "            correct+=1\n",
        "    \n",
        "    return float(correct)/len(Y_pred)\n",
        "\n",
        "\n",
        "max_num_words = 15\n",
        "max_num_sentence = 200\n",
        "\n",
        "#train_data\n",
        "finalMatrix = np.zeros((Data2.shape[0], max_num_sentence, max_num_words))\n",
        "print(finalMatrix.shape)\n",
        "for k in range(Data2.shape[0]):\n",
        "    for i in range(min(max_num_sentence, len(Data2[k][0]))):\n",
        "    \tsentence = Data2[k][i].split(\" \")\n",
        "    \tsentence = remove_StopWOrds(sentence)\n",
        "    \tfor j in range(min(max_num_words, len(sentence))):\n",
        "    \t\ttry:\n",
        "    \t\t\tfinalMatrix[k][i][j] = np.average(np.array(model[sentence[j]]))\n",
        "    \t\texcept:\n",
        "    \t\t\tcontinue\n",
        "X = np.zeros((len(Data2), max_num_sentence*max_num_words))\n",
        "for i in range(len(finalMatrix)):\n",
        "    X[i] = finalMatrix[i].flatten().reshape(1, -1)\n",
        " \n",
        "#Test_data\n",
        "finalMatrix_test = np.zeros((Data2_test.shape[0], max_num_sentence, max_num_words))\n",
        "print(finalMatrix_test.shape)\n",
        "for k in range(Data2_test.shape[0]):\n",
        "    for i in range(min(max_num_sentence, len(Data2_test[k][0]))):\n",
        "    \tsentence = Data2_test[k][i].split(\" \")\n",
        "    \tsentence = remove_StopWOrds(sentence)\n",
        "    \tfor j in range(min(max_num_words, len(sentence))):\n",
        "    \t\ttry:\n",
        "    \t\t\tfinalMatrix_test[k][i][j] = np.average(np.array(model[sentence[j]]))\n",
        "    \t\texcept:\n",
        "    \t\t\tcontinue\n",
        "X_test = np.zeros((len(Data2_test), max_num_sentence*max_num_words))\n",
        "for i in range(len(finalMatrix_test)):\n",
        "    X_test[i] = finalMatrix_test[i].flatten().reshape(1, -1)\n",
        "\n",
        "from sklearn.ensemble import RandomForestClassifier\n",
        "clf1 = RandomForestClassifier()\n",
        "clf1.fit(X,Y)\n",
        "Y_pred = clf1.predict(X_test)\n",
        "print(\"Accuracy random forests: \" + str(checkAcc(Y_pred, Y_test)))\n",
        "\n",
        "from sklearn.svm import SVC\n",
        "classifier = SVC(kernel = 'rbf', random_state = 0)\n",
        "classifier.fit(X, Y)\n",
        "\n",
        "y_pred = classifier.predict(X_test)\n",
        "print(\"Accuracy SVM: \" + str(checkAcc(y_pred, Y_test)))\n",
        "\n",
        "\n",
        "\n",
        "from sklearn.metrics import classification_report\n",
        "y_pred = classifier.predict(X_test)\n",
        "print(classification_report(Y_test, y_pred))"
      ],
      "execution_count": 0,
      "outputs": [
        {
          "output_type": "error",
          "ename": "IndexError",
          "evalue": "ignored",
          "traceback": [
            "\u001b[0;31m---------------------------------------------------------------------------\u001b[0m",
            "\u001b[0;31mIndexError\u001b[0m                                Traceback (most recent call last)",
            "\u001b[0;32m<ipython-input-15-60df34f4400e>\u001b[0m in \u001b[0;36m<module>\u001b[0;34m()\u001b[0m\n\u001b[1;32m     46\u001b[0m         \u001b[0;32mcontinue\u001b[0m\u001b[0;34m\u001b[0m\u001b[0;34m\u001b[0m\u001b[0m\n\u001b[1;32m     47\u001b[0m     \u001b[0mY\u001b[0m\u001b[0;34m.\u001b[0m\u001b[0mappend\u001b[0m\u001b[0;34m(\u001b[0m\u001b[0mval\u001b[0m\u001b[0;34m)\u001b[0m\u001b[0;34m\u001b[0m\u001b[0;34m\u001b[0m\u001b[0m\n\u001b[0;32m---> 48\u001b[0;31m     \u001b[0;32mif\u001b[0m\u001b[0;34m(\u001b[0m\u001b[0mY\u001b[0m\u001b[0;34m[\u001b[0m\u001b[0mi\u001b[0m\u001b[0;34m]\u001b[0m \u001b[0;34m==\u001b[0m \u001b[0;36m0\u001b[0m\u001b[0;34m)\u001b[0m\u001b[0;34m:\u001b[0m\u001b[0;34m\u001b[0m\u001b[0;34m\u001b[0m\u001b[0m\n\u001b[0m\u001b[1;32m     49\u001b[0m         \u001b[0mcountPos\u001b[0m\u001b[0;34m+=\u001b[0m\u001b[0;36m1\u001b[0m\u001b[0;34m\u001b[0m\u001b[0;34m\u001b[0m\u001b[0m\n\u001b[1;32m     50\u001b[0m \u001b[0;34m\u001b[0m\u001b[0m\n",
            "\u001b[0;31mIndexError\u001b[0m: list index out of range"
          ]
        }
      ]
    },
    {
      "cell_type": "code",
      "metadata": {
        "id": "Ec8fm3lcg_2y",
        "colab_type": "code",
        "outputId": "25f8e3ba-0804-4be8-c899-a949054a61cb",
        "colab": {
          "base_uri": "https://localhost:8080/",
          "height": 297
        }
      },
      "source": [
        "import numpy as np\n",
        "import pandas as pd\n",
        "from gensim.models.keyedvectors import KeyedVectors\n",
        "from nltk.corpus import stopwords\n",
        "\n",
        "dataset1 = np.array(pd.read_csv('/content/drive/My Drive/MCA Dataset/dev_split_Depression_AVEC2017.csv',delimiter=',',encoding='utf-8'))[:, 0:2]\n",
        "dataset2 = np.array(pd.read_csv('/content/drive/My Drive/MCA Dataset/full_test_split.csv',delimiter=',',encoding='utf-8'))[:, 0:2]\n",
        "dataset3 = np.array(pd.read_csv('/content/drive/My Drive/MCA Dataset/train_split_Depression_AVEC2017.csv',delimiter=',',encoding='utf-8'))[:, 0:2]\n",
        "\n",
        "dataset = np.concatenate((dataset1, np.concatenate((dataset2, dataset3))))\n",
        "pos = []\n",
        "neg = []\n",
        "\n",
        "countPos = 0\n",
        "\n",
        "def checkPosNeg(dataset, index):\n",
        "    for i in range(0, len(dataset)):\n",
        "        if(dataset[i][0] == index):\n",
        "            return dataset[i][1]\n",
        "    return 0\n",
        "\n",
        "for i in range(len(dataset)):\n",
        "    if dataset[i][0]<=310 and dataset[i][0]>=300:\n",
        "        if(dataset[i][1] == 1):\n",
        "            neg.append(dataset[i][0])\n",
        "        else:\n",
        "            pos.append(dataset[i][0])\n",
        "    elif dataset[i][0]<=355 and dataset[i][0]>=345:\n",
        "        if(dataset[i][1] == 1):\n",
        "            neg.append(dataset[i][0])\n",
        "        else:\n",
        "            pos.append(dataset[i][0])\n",
        "            \n",
        "pos = np.array(pos)\n",
        "neg = np.array(neg)\n",
        "\n",
        "Data = []\n",
        "Y = []\n",
        "\n",
        "Data_test = []\n",
        "Y_test = []\n",
        "index = -1\n",
        "for i in range(0, len(dataset3)):\n",
        "    val = checkPosNeg(dataset, dataset3[i][0])\n",
        "    if(val == 0 and countPos>37):\n",
        "        continue\n",
        "    Y.append(val)\n",
        "    index+=1\n",
        "    if(Y[index] == 0):\n",
        "        countPos+=1\n",
        "\n",
        "    \n",
        "    fileName = \"/content/drive/My Drive/MCA Dataset/train_data/\" + str(int(dataset3[i][0])) + \"_TRANSCRIPT.csv\"\n",
        "    Data.append(np.array(pd.read_csv(fileName,delimiter='\\t',encoding='utf-8'))[:, 2:4])\n",
        "\n",
        "\n",
        "for i in range(0, len(dataset1)):\n",
        "    val = checkPosNeg(dataset, dataset1[i][0])\n",
        "    if(val == 0):\n",
        "        continue\n",
        "    Y.append(val)\n",
        "    fileName = \"/content/drive/My Drive/MCA Dataset/dev_data/\" + str(int(dataset1[i][0])) + \"_TRANSCRIPT.csv\"\n",
        "    Data.append(np.array(pd.read_csv(fileName,delimiter='\\t',encoding='utf-8'))[:, 2:4])\n",
        "    \n",
        "for i in range(0, len(dataset2)):\n",
        "    Y_test.append(checkPosNeg(dataset, dataset2[i][0]))\n",
        "    fileName = \"/content/drive/My Drive/MCA Dataset/test_data/\" + str(int(dataset2[i][0])) + \"_TRANSCRIPT.csv\"\n",
        "    Data_test.append(np.array(pd.read_csv(fileName,delimiter='\\t',encoding='utf-8'))[:, 2:4])\n",
        "\n",
        "    \n",
        "Y = np.array(Y)\n",
        "Data2 = []\n",
        "\n",
        "Data2_test = []\n",
        "Y_test = np.array(Y_test)\n",
        "\n",
        "for i in range(0, len(Data)):\n",
        "    script = []\n",
        "    for k in range(1, len(Data[i])):\n",
        "        if(Data[i][k][0] == \"Participant\"):\n",
        "            script.append(Data[i][k][1])\n",
        "    Data2.append(script)\n",
        "    \n",
        "for i in range(0, len(Data_test)):\n",
        "    script = []\n",
        "    for k in range(1, len(Data_test[i])):\n",
        "        if(Data_test[i][k][0] == \"Participant\"):\n",
        "            script.append(Data_test[i][k][1])\n",
        "    Data2_test.append(script)\n",
        "        \n",
        "Data2 = np.array(Data2)\n",
        "Data2_test = np.array(Data2_test)\n",
        "\n",
        "model = KeyedVectors.load_word2vec_format('/content/drive/My Drive/MCA Dataset/GoogleNews-vectors-negative300.bin', binary=True)\n",
        "\n",
        "stop_words = set(stopwords.words('english'))\n",
        "\n",
        "\n",
        "def remove_StopWOrds(sentence):\n",
        "    filtered_sentence = [] \n",
        "    for w in sentence: \n",
        "        if w not in stop_words: \n",
        "            filtered_sentence.append(w)\n",
        "    \n",
        "    return filtered_sentence\n",
        "\n",
        "def checkAcc(Y_pred, Y_test):\n",
        "    correct = 0\n",
        "    for i in range(len(Y_pred)):\n",
        "        if(Y_pred[i] == Y_test[i]):\n",
        "            correct+=1\n",
        "    \n",
        "    return float(correct)/len(Y_pred)\n",
        "\n",
        "\n",
        "max_num_words = 15\n",
        "max_num_sentence = 200\n",
        "\n",
        "#train_data\n",
        "finalMatrix = np.zeros((Data2.shape[0], max_num_sentence, max_num_words))\n",
        "print(finalMatrix.shape)\n",
        "for k in range(Data2.shape[0]):\n",
        "    for i in range(min(max_num_sentence, len(Data2[k][0]))):\n",
        "    \tsentence = Data2[k][i].split(\" \")\n",
        "    \tsentence = remove_StopWOrds(sentence)\n",
        "    \tfor j in range(min(max_num_words, len(sentence))):\n",
        "    \t\ttry:\n",
        "    \t\t\tfinalMatrix[k][i][j] = np.average(np.array(model[sentence[j]]))\n",
        "    \t\texcept:\n",
        "    \t\t\tcontinue\n",
        "X = np.zeros((len(Data2), max_num_sentence*max_num_words))\n",
        "for i in range(len(finalMatrix)):\n",
        "    X[i] = finalMatrix[i].flatten().reshape(1, -1)\n",
        " \n",
        "#Test_data\n",
        "finalMatrix_test = np.zeros((Data2_test.shape[0], max_num_sentence, max_num_words))\n",
        "print(finalMatrix_test.shape)\n",
        "for k in range(Data2_test.shape[0]):\n",
        "    for i in range(min(max_num_sentence, len(Data2_test[k][0]))):\n",
        "    \tsentence = Data2_test[k][i].split(\" \")\n",
        "    \tsentence = remove_StopWOrds(sentence)\n",
        "    \tfor j in range(min(max_num_words, len(sentence))):\n",
        "    \t\ttry:\n",
        "    \t\t\tfinalMatrix_test[k][i][j] = np.average(np.array(model[sentence[j]]))\n",
        "    \t\texcept:\n",
        "    \t\t\tcontinue\n",
        "X_test = np.zeros((len(Data2_test), max_num_sentence*max_num_words))\n",
        "for i in range(len(finalMatrix_test)):\n",
        "    X_test[i] = finalMatrix_test[i].flatten().reshape(1, -1)\n",
        "\n",
        "from sklearn.ensemble import RandomForestClassifier\n",
        "clf1 = RandomForestClassifier()\n",
        "clf1.fit(X,Y)\n",
        "Y_pred = clf1.predict(X_test)\n",
        "print(\"Accuracy random forests: \" + str(checkAcc(Y_pred, Y_test)))\n",
        "\n",
        "from sklearn.svm import SVC\n",
        "classifier = SVC(kernel = 'rbf', random_state = 0)\n",
        "classifier.fit(X, Y)\n",
        "\n",
        "y_pred = classifier.predict(X_test)\n",
        "print(\"Accuracy SVM: \" + str(checkAcc(y_pred, Y_test)))\n",
        "\n",
        "\n",
        "\n",
        "from sklearn.metrics import classification_report\n",
        "y_pred = classifier.predict(X_test)\n",
        "print(classification_report(Y_test, y_pred))"
      ],
      "execution_count": 0,
      "outputs": [
        {
          "output_type": "stream",
          "text": [
            "/usr/local/lib/python3.6/dist-packages/smart_open/smart_open_lib.py:402: UserWarning: This function is deprecated, use smart_open.open instead. See the migration notes for details: https://github.com/RaRe-Technologies/smart_open/blob/master/README.rst#migrating-to-the-new-open-function\n",
            "  'See the migration notes for details: %s' % _MIGRATION_NOTES_URL\n"
          ],
          "name": "stderr"
        },
        {
          "output_type": "stream",
          "text": [
            "(77, 200, 15)\n",
            "(41, 200, 15)\n",
            "Accuracy random forests: 0.34146341463414637\n",
            "Accuracy SVM: 0.24390243902439024\n",
            "              precision    recall  f1-score   support\n",
            "\n",
            "         0.0       0.33      0.07      0.11        29\n",
            "         1.0       0.23      0.67      0.34        12\n",
            "\n",
            "    accuracy                           0.24        41\n",
            "   macro avg       0.28      0.37      0.23        41\n",
            "weighted avg       0.30      0.24      0.18        41\n",
            "\n"
          ],
          "name": "stdout"
        }
      ]
    }
  ]
}