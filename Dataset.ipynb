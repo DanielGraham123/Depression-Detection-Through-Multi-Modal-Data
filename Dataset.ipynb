{
  "nbformat": 4,
  "nbformat_minor": 0,
  "metadata": {
    "colab": {
      "name": "Dataset.ipynb",
      "provenance": [],
      "collapsed_sections": [],
      "include_colab_link": true
    },
    "kernelspec": {
      "name": "python3",
      "display_name": "Python 3"
    }
  },
  "cells": [
    {
      "cell_type": "markdown",
      "metadata": {
        "id": "view-in-github",
        "colab_type": "text"
      },
      "source": [
        "<a href=\"https://colab.research.google.com/github/notmanan/Depression-Detection-Through-Multi-Modal-Data/blob/master/Dataset.ipynb\" target=\"_parent\"><img src=\"https://colab.research.google.com/assets/colab-badge.svg\" alt=\"Open In Colab\"/></a>"
      ]
    },
    {
      "cell_type": "markdown",
      "metadata": {
        "id": "KzJZoQdi2jNN",
        "colab_type": "text"
      },
      "source": [
        "**Get all the text from the DAIC-WOZ server**"
      ]
    },
    {
      "cell_type": "code",
      "metadata": {
        "id": "ADVA5y8ZwfZr",
        "colab_type": "code",
        "colab": {}
      },
      "source": [
        "username = \"********\"\n",
        "password = \"********\n",
        "for i in range(300,493):\n",
        "  s = \"http://\" + username + \":\" + password + \"@dcapswoz.ict.usc.edu/wwwdaicwoz//\" + str(i) + \"_P.zip\"\n",
        "  !wget {s}\n",
        "\n"
      ],
      "execution_count": 0,
      "outputs": []
    },
    {
      "cell_type": "markdown",
      "metadata": {
        "id": "Fe6z7VNF2qFw",
        "colab_type": "text"
      },
      "source": [
        "**Importing Google Drive to Work with Colab**"
      ]
    },
    {
      "cell_type": "code",
      "metadata": {
        "id": "i6iOM2b6fIpX",
        "colab_type": "code",
        "colab": {}
      },
      "source": [
        "from google.colab import drive\n",
        "drive.mount('/content/gdrive')\n"
      ],
      "execution_count": 0,
      "outputs": []
    },
    {
      "cell_type": "markdown",
      "metadata": {
        "id": "hLPHSt3Z2woB",
        "colab_type": "text"
      },
      "source": [
        "**Move All Zip Files from Colab to Drive for permanent storage**"
      ]
    },
    {
      "cell_type": "code",
      "metadata": {
        "id": "SxkwqHcPjpP8",
        "colab_type": "code",
        "colab": {}
      },
      "source": [
        "import os\n",
        "os.chdir('drive/My Drive/MCA Dataset')\n"
      ],
      "execution_count": 0,
      "outputs": []
    },
    {
      "cell_type": "code",
      "metadata": {
        "id": "5g6O1q7kiiY6",
        "colab_type": "code",
        "colab": {}
      },
      "source": [
        "!mv *.zip \"drive/My Drive/MCA Dataset\"\n"
      ],
      "execution_count": 0,
      "outputs": []
    },
    {
      "cell_type": "code",
      "metadata": {
        "id": "T7m95ngtjbx8",
        "colab_type": "code",
        "colab": {}
      },
      "source": [
        "!cd \"drive/My Drive/MCA Dataset\"\n"
      ],
      "execution_count": 0,
      "outputs": []
    },
    {
      "cell_type": "markdown",
      "metadata": {
        "id": "Wp14LbpY27tR",
        "colab_type": "text"
      },
      "source": [
        "**Making directories and unzipping to respective locations **\n",
        "\n"
      ]
    },
    {
      "cell_type": "code",
      "metadata": {
        "id": "gTRt4xPLpR_l",
        "colab_type": "code",
        "colab": {}
      },
      "source": [
        "!mkdir train_data\n",
        "!mkdir test_data\n",
        "!mkdir dev_data"
      ],
      "execution_count": 0,
      "outputs": []
    },
    {
      "cell_type": "code",
      "metadata": {
        "id": "eRkFYPGApaLJ",
        "colab_type": "code",
        "colab": {}
      },
      "source": [
        "import numpy as np\n",
        "import pandas as pd\n",
        "\n",
        "dev = np.array(pd.read_csv('/content/drive/My Drive/MCA Dataset/dev_split_Depression_AVEC2017.csv',delimiter=',',encoding='utf-8'))[:, 0:2]\n",
        "test = np.array(pd.read_csv('/content/drive/My Drive/MCA Dataset/full_test_split.csv',delimiter=',',encoding='utf-8'))[:, 0:2]\n",
        "train = np.array(pd.read_csv('/content/drive/My Drive/MCA Dataset/train_split_Depression_AVEC2017.csv',delimiter=',',encoding='utf-8'))[:, 0:2]\n",
        "\n",
        "\n",
        "for i in range(len(dev)):\n",
        "      s = str(int(dev[i][0])) + \"_P.zip\"\n",
        "      !unzip -q {s} -d dev_data\n",
        "for i in range(len(test)):\n",
        "      s = str(int(test[i][0])) + \"_P.zip\"\n",
        "      !unzip -q {s} -d test_data\n",
        "for i in range(len(train)):\n",
        "      s = str(int(train[i][0])) + \"_P.zip\"\n",
        "      !unzip -q {s} -d train_data\n",
        "\n"
      ],
      "execution_count": 0,
      "outputs": []
    }
  ]
}