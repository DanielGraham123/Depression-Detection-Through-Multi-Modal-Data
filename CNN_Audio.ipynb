{
  "nbformat": 4,
  "nbformat_minor": 0,
  "metadata": {
    "colab": {
      "name": "CNN_Audio.ipynb",
      "provenance": [],
      "collapsed_sections": [],
      "machine_shape": "hm",
      "include_colab_link": true
    },
    "kernelspec": {
      "name": "python3",
      "display_name": "Python 3"
    },
    "accelerator": "GPU"
  },
  "cells": [
    {
      "cell_type": "markdown",
      "metadata": {
        "id": "view-in-github",
        "colab_type": "text"
      },
      "source": [
        "<a href=\"https://colab.research.google.com/github/notmanan/Depression-Detection-Through-Multi-Modal-Data/blob/master/CNN_Audio.ipynb\" target=\"_parent\"><img src=\"https://colab.research.google.com/assets/colab-badge.svg\" alt=\"Open In Colab\"/></a>"
      ]
    },
    {
      "cell_type": "code",
      "metadata": {
        "id": "J1Ya1lJORCyk",
        "colab_type": "code",
        "outputId": "1085d231-f782-4de4-8af7-ce76e14bc190",
        "colab": {
          "base_uri": "https://localhost:8080/",
          "height": 124
        }
      },
      "source": [
        "from google.colab import drive\n",
        "drive.mount('/content/drive')"
      ],
      "execution_count": 0,
      "outputs": [
        {
          "output_type": "stream",
          "text": [
            "Go to this URL in a browser: https://accounts.google.com/o/oauth2/auth?client_id=947318989803-6bn6qk8qdgf4n4g3pfee6491hc0brc4i.apps.googleusercontent.com&redirect_uri=urn%3aietf%3awg%3aoauth%3a2.0%3aoob&response_type=code&scope=email%20https%3a%2f%2fwww.googleapis.com%2fauth%2fdocs.test%20https%3a%2f%2fwww.googleapis.com%2fauth%2fdrive%20https%3a%2f%2fwww.googleapis.com%2fauth%2fdrive.photos.readonly%20https%3a%2f%2fwww.googleapis.com%2fauth%2fpeopleapi.readonly\n",
            "\n",
            "Enter your authorization code:\n",
            "··········\n",
            "Mounted at /content/drive\n"
          ],
          "name": "stdout"
        }
      ]
    },
    {
      "cell_type": "code",
      "metadata": {
        "id": "eBNi4Eemrb3-",
        "colab_type": "code",
        "colab": {}
      },
      "source": [
        "import gc"
      ],
      "execution_count": 0,
      "outputs": []
    },
    {
      "cell_type": "code",
      "metadata": {
        "id": "xTNMp3uGVK9H",
        "colab_type": "code",
        "outputId": "c50096ad-611a-4e4a-f174-6396295dac79",
        "colab": {
          "base_uri": "https://localhost:8080/",
          "height": 87
        }
      },
      "source": [
        "\n",
        "\n",
        "import numpy as np\n",
        "import pandas as pd \n",
        "import sklearn\n",
        "\n",
        "def makedata(X):\n",
        "    for i in range(X.shape[0]):\n",
        "        if(X[i,1] == 0):\n",
        "            X[i,0] = 0\n",
        "            for j in range(7):\n",
        "                X[i,j+1] = 0\n",
        "    # X = np.array(X)\n",
        "    return X\n",
        "\n",
        "dev = np.array(pd.read_csv('/content/drive/My Drive/MCA Dataset/dev_split_Depression_AVEC2017.csv',delimiter=',',encoding='utf-8'))[:, 0:2]\n",
        "test = np.array(pd.read_csv('/content/drive/My Drive/MCA Dataset/full_test_split.csv',delimiter=',',encoding='utf-8'))[:, 0:2]\n",
        "train = np.array(pd.read_csv('/content/drive/My Drive/MCA Dataset/train_split_Depression_AVEC2017.csv',delimiter=',',encoding='utf-8'))[:, 0:2]\n",
        " \n",
        "\n",
        "def scale_down(X):\n",
        "  if(X.shape[0]<70000):\n",
        "    return X\n",
        "  X_new = []\n",
        "  for i in range(int(X.shape[0]/2)):\n",
        "    cur_row = X[i*2]\n",
        "    for j in range(1,2):\n",
        "      if(i+j < X.shape[0]):\n",
        "        cur_row += X[i+j]\n",
        "    cur_row = cur_row/2.0\n",
        "    X_new.append(cur_row)\n",
        "  X_new = np.array(X_new)\n",
        "  return X_new\n",
        "\n",
        "def decrease_size(X):\n",
        "  \n",
        "  size = 30000\n",
        "  if(X.shape[0]<size):\n",
        "    dif = size - X.shape[0] \n",
        "    temp = np.zeros((dif,X.shape[1]))\n",
        "    X = np.concatenate((X,temp),axis = 0)\n",
        "  if(X.shape[0]>size):\n",
        "    # dif = X.shape[0] - size\n",
        "    # while(dif>0):\n",
        "    #   index = np.random.randint(0,X.shape[0]-1)\n",
        "    #   X[index] = (X[index]+ X[index+1])/2\n",
        "    #   X = np.delete(X,index+1,axis = 0)\n",
        "    #   dif -= 1\n",
        "    X = X[:30000]\n",
        "  return X\n",
        "\n",
        "\n",
        "\n",
        "\n",
        "\n",
        "X_train = []\n",
        "Y_train = []\n",
        "\n",
        "X_test = []\n",
        "Y_test = []\n",
        "size = 40000\n",
        "\n",
        "for i in range(len(test)):\n",
        "    data = pd.read_csv('/content/drive/My Drive/MCA Dataset/test_data/'+str(int(test[i][0]))+\"_COVAREP.csv\",header = None)\n",
        "    X_temp = data.iloc[:,:].values\n",
        "    X_temp = makedata(X_temp)\n",
        "    # X_temp = scale_down(X_temp)\n",
        "    # X_temp = decrease_size(X_temp)\n",
        "    X_temp = X_temp[X_temp.shape[0]-size:]\n",
        "    X_test.append(X_temp)\n",
        "    Y_test.append(test[i][1])\n",
        "X_test = np.array(X_test)\n",
        "print(X_test.shape)\n",
        "\n",
        "Y_test = np.array(Y_test)\n",
        "print(Y_test.shape)\n",
        "      \n",
        "test = []\n",
        "gc.collect()\n",
        "\n",
        "\n",
        "for i in range(len(train)):\n",
        "    data = pd.read_csv('/content/drive/My Drive/MCA Dataset/train_data/'+str(int(train[i][0]))+\"_COVAREP.csv\",header = None)\n",
        "    X_temp = data.iloc[:,:].values\n",
        "    X_temp = makedata(X_temp)\n",
        "    # X_temp = scale_down(X_temp)\n",
        "    # X_temp = decrease_size(X_temp)\n",
        "    X_temp = X_temp[X_temp.shape[0]-size:]\n",
        "    X_train.append(X_temp)\n",
        "    Y_train.append(train[i][1])\n",
        "\n",
        "train = []\n",
        "gc.collect()\n",
        "\n",
        "for i in range(len(dev)):\n",
        "    data = pd.read_csv('/content/drive/My Drive/MCA Dataset/dev_data/'+str(int(dev[i][0]))+\"_COVAREP.csv\",header = None)\n",
        "    X_temp = data.iloc[:,:].values\n",
        "    X_temp = makedata(X_temp)\n",
        "    # X_temp = scale_down(X_temp)\n",
        "    # X_temp = decrease_size(X_temp)\n",
        "    X_temp = X_temp[X_temp.shape[0]-size:]\n",
        "    X_train.append(X_temp)\n",
        "    Y_train.append(dev[i][1])\n",
        "\n",
        "X_temp = []\n",
        "dev = []\n",
        "gc.collect()\n",
        "\n",
        "\n",
        "X_train = np.array(X_train, dtype = object)\n",
        "Y_train = np.array(Y_train)\n",
        "# print(Y_train.shape)\n",
        "print(X_train.shape)\n",
        "print(Y_train.shape)\n",
        "\n",
        "# X_train = sklearn.preprocessing.normalize(X_train)\n",
        "# X_test = sklearn.preprocessing.normalize(X_test)\n"
      ],
      "execution_count": 0,
      "outputs": [
        {
          "output_type": "stream",
          "text": [
            "(41, 40000, 74)\n",
            "(41,)\n",
            "(137, 40000, 74)\n",
            "(137,)\n"
          ],
          "name": "stdout"
        }
      ]
    },
    {
      "cell_type": "code",
      "metadata": {
        "id": "EHwnhB7pydY0",
        "colab_type": "code",
        "outputId": "de61cf51-ac70-4979-d64a-60e4f8f16338",
        "colab": {
          "base_uri": "https://localhost:8080/",
          "height": 69
        }
      },
      "source": [
        "\n",
        "# print(np.array([1,X_train[0]]).shape)\n",
        "def upsample(X_train,Y_train):\n",
        "  X_train_0 = X_train[Y_train==0]\n",
        "  X_train_1 = X_train[Y_train==1]\n",
        "\n",
        "  Y_train_1 = Y_train[Y_train==1]\n",
        "  # print(Y_train_1.shape)\n",
        "  # print(X_train_1.shape)\n",
        "  size = X_train_0.shape[0] - X_train_1.shape[0]\n",
        "  X = []\n",
        "  Y = []\n",
        "  X_train = list(X_train)\n",
        "  Y_train = list(Y_train)\n",
        "  while(size>0):\n",
        "    size -= 1\n",
        "    index = np.random.randint(0,X_train_1.shape[0]-1)\n",
        "    leave_index = np.random.randint(0,len(X_train)-1)\n",
        "    X_add = X_train_1[index]\n",
        "    X_leave = X_train[leave_index]\n",
        "\n",
        "    Y_add = Y_train_1[index]\n",
        "    Y_leave = Y_train[leave_index]\n",
        "\n",
        "    X_train[leave_index] = X_add\n",
        "    X_train.append(X_leave)\n",
        "\n",
        "    Y_train[leave_index] = Y_add\n",
        "    Y_train.append(Y_leave)\n",
        "\n",
        "\n",
        "  X_train = np.array(X_train)\n",
        "  Y_train = np.array(Y_train)\n",
        "  return X_train,Y_train\n",
        "\n",
        "X_upsample, Y_upsample = upsample(X_train,Y_train)\n",
        "print(X_upsample.shape)\n",
        "print(Y_upsample.shape)\n",
        "X_train = []\n",
        "Y_train = []\n",
        "gc.collect()\n"
      ],
      "execution_count": 0,
      "outputs": [
        {
          "output_type": "stream",
          "text": [
            "(196, 40000, 74)\n",
            "(196,)\n"
          ],
          "name": "stdout"
        },
        {
          "output_type": "execute_result",
          "data": {
            "text/plain": [
              "41"
            ]
          },
          "metadata": {
            "tags": []
          },
          "execution_count": 4
        }
      ]
    },
    {
      "cell_type": "code",
      "metadata": {
        "id": "aKBw_OtjTVrt",
        "colab_type": "code",
        "outputId": "f8648910-f6af-41a4-c29c-da576bec02be",
        "colab": {
          "base_uri": "https://localhost:8080/",
          "height": 1000
        }
      },
      "source": [
        "# Importing the Keras libraries and packages\n",
        "from keras.models import Sequential\n",
        "from keras.layers import Conv1D\n",
        "from keras.layers import MaxPooling1D\n",
        "from keras.layers import Flatten\n",
        "from keras.layers import Dense\n",
        "from keras.layers import Dropout\n",
        "\n",
        "# Initialising the CNN\n",
        "classifier = Sequential()\n",
        "\n",
        "# Step 1 - Convolution\n",
        "classifier.add(Conv1D(60, 10, input_shape = (40000, 74), activation = 'relu'))\n",
        "\n",
        "# Step 2 - Pooling\n",
        "classifier.add(MaxPooling1D(pool_size = 3))\n",
        "\n",
        "\n",
        "# classifier.add(Conv1D(50, 3, activation = 'relu'))\n",
        "# classifier.add(MaxPooling1D(pool_size = 5))\n",
        "\n",
        "# Adding a second convolutional layer\n",
        "classifier.add(Conv1D(30, 5, activation = 'relu'))\n",
        "classifier.add(MaxPooling1D(pool_size = 3))\n",
        "\n",
        "\n",
        "classifier.add(Conv1D(15, 5, activation = 'relu'))\n",
        "classifier.add(MaxPooling1D(pool_size = 3))\n",
        "\n",
        "# Step 3 - Flattening\n",
        "classifier.add(Flatten())\n",
        "classifier.add(Dropout(0.5))\n",
        "# Step 4 - Full connection\n",
        "classifier.add(Dense(units = 128, activation = 'relu'))\n",
        "classifier.add(Dense(units = 1, activation = 'sigmoid'))\n",
        "# classifier.add(Dense(units = 1, activation = 'sigmoid'))\n",
        "\n",
        "from keras import metrics\n",
        "\n",
        "# Compiling the CNN\n",
        "classifier.compile(optimizer = 'adam', loss = 'binary_crossentropy', metrics = ['accuracy'])\n",
        "class_weight = { 0: 0.3, 1:0.7}\n",
        "classifier.fit(X_upsample, Y_upsample, epochs=10)\n",
        "score = classifier.evaluate(X_test, Y_test)\n",
        "from sklearn.metrics import classification_report\n",
        "\n",
        "# print(classification_report(Y_train,classifier.predict(X_train)))\n",
        "print(classification_report(Y_test,classifier.predict(X_test)))"
      ],
      "execution_count": 0,
      "outputs": [
        {
          "output_type": "stream",
          "text": [
            "Using TensorFlow backend.\n"
          ],
          "name": "stderr"
        },
        {
          "output_type": "display_data",
          "data": {
            "text/html": [
              "<p style=\"color: red;\">\n",
              "The default version of TensorFlow in Colab will soon switch to TensorFlow 2.x.<br>\n",
              "We recommend you <a href=\"https://www.tensorflow.org/guide/migrate\" target=\"_blank\">upgrade</a> now \n",
              "or ensure your notebook will continue to use TensorFlow 1.x via the <code>%tensorflow_version 1.x</code> magic:\n",
              "<a href=\"https://colab.research.google.com/notebooks/tensorflow_version.ipynb\" target=\"_blank\">more info</a>.</p>\n"
            ],
            "text/plain": [
              "<IPython.core.display.HTML object>"
            ]
          },
          "metadata": {
            "tags": []
          }
        },
        {
          "output_type": "stream",
          "text": [
            "WARNING:tensorflow:From /usr/local/lib/python3.6/dist-packages/keras/backend/tensorflow_backend.py:66: The name tf.get_default_graph is deprecated. Please use tf.compat.v1.get_default_graph instead.\n",
            "\n",
            "WARNING:tensorflow:From /usr/local/lib/python3.6/dist-packages/keras/backend/tensorflow_backend.py:541: The name tf.placeholder is deprecated. Please use tf.compat.v1.placeholder instead.\n",
            "\n",
            "WARNING:tensorflow:From /usr/local/lib/python3.6/dist-packages/keras/backend/tensorflow_backend.py:4432: The name tf.random_uniform is deprecated. Please use tf.random.uniform instead.\n",
            "\n",
            "WARNING:tensorflow:From /usr/local/lib/python3.6/dist-packages/keras/backend/tensorflow_backend.py:4267: The name tf.nn.max_pool is deprecated. Please use tf.nn.max_pool2d instead.\n",
            "\n",
            "WARNING:tensorflow:From /usr/local/lib/python3.6/dist-packages/keras/backend/tensorflow_backend.py:148: The name tf.placeholder_with_default is deprecated. Please use tf.compat.v1.placeholder_with_default instead.\n",
            "\n",
            "WARNING:tensorflow:From /usr/local/lib/python3.6/dist-packages/keras/backend/tensorflow_backend.py:3733: calling dropout (from tensorflow.python.ops.nn_ops) with keep_prob is deprecated and will be removed in a future version.\n",
            "Instructions for updating:\n",
            "Please use `rate` instead of `keep_prob`. Rate should be set to `rate = 1 - keep_prob`.\n",
            "WARNING:tensorflow:From /usr/local/lib/python3.6/dist-packages/keras/optimizers.py:793: The name tf.train.Optimizer is deprecated. Please use tf.compat.v1.train.Optimizer instead.\n",
            "\n",
            "WARNING:tensorflow:From /usr/local/lib/python3.6/dist-packages/keras/backend/tensorflow_backend.py:3657: The name tf.log is deprecated. Please use tf.math.log instead.\n",
            "\n",
            "WARNING:tensorflow:From /usr/local/lib/python3.6/dist-packages/tensorflow_core/python/ops/nn_impl.py:183: where (from tensorflow.python.ops.array_ops) is deprecated and will be removed in a future version.\n",
            "Instructions for updating:\n",
            "Use tf.where in 2.0, which has the same broadcast rule as np.where\n",
            "WARNING:tensorflow:From /usr/local/lib/python3.6/dist-packages/keras/backend/tensorflow_backend.py:1033: The name tf.assign_add is deprecated. Please use tf.compat.v1.assign_add instead.\n",
            "\n",
            "WARNING:tensorflow:From /usr/local/lib/python3.6/dist-packages/keras/backend/tensorflow_backend.py:1020: The name tf.assign is deprecated. Please use tf.compat.v1.assign instead.\n",
            "\n",
            "WARNING:tensorflow:From /usr/local/lib/python3.6/dist-packages/keras/backend/tensorflow_backend.py:3005: The name tf.Session is deprecated. Please use tf.compat.v1.Session instead.\n",
            "\n",
            "Epoch 1/10\n",
            "WARNING:tensorflow:From /usr/local/lib/python3.6/dist-packages/keras/backend/tensorflow_backend.py:190: The name tf.get_default_session is deprecated. Please use tf.compat.v1.get_default_session instead.\n",
            "\n",
            "WARNING:tensorflow:From /usr/local/lib/python3.6/dist-packages/keras/backend/tensorflow_backend.py:197: The name tf.ConfigProto is deprecated. Please use tf.compat.v1.ConfigProto instead.\n",
            "\n",
            "WARNING:tensorflow:From /usr/local/lib/python3.6/dist-packages/keras/backend/tensorflow_backend.py:207: The name tf.global_variables is deprecated. Please use tf.compat.v1.global_variables instead.\n",
            "\n",
            "WARNING:tensorflow:From /usr/local/lib/python3.6/dist-packages/keras/backend/tensorflow_backend.py:216: The name tf.is_variable_initialized is deprecated. Please use tf.compat.v1.is_variable_initialized instead.\n",
            "\n",
            "WARNING:tensorflow:From /usr/local/lib/python3.6/dist-packages/keras/backend/tensorflow_backend.py:223: The name tf.variables_initializer is deprecated. Please use tf.compat.v1.variables_initializer instead.\n",
            "\n",
            "196/196 [==============================] - 32s 165ms/step - loss: 7.3382 - acc: 0.5000\n",
            "Epoch 2/10\n",
            "196/196 [==============================] - 15s 78ms/step - loss: 7.9712 - acc: 0.5000\n",
            "Epoch 3/10\n",
            "196/196 [==============================] - 16s 79ms/step - loss: 7.9712 - acc: 0.5000\n",
            "Epoch 4/10\n",
            "196/196 [==============================] - 15s 78ms/step - loss: 7.9712 - acc: 0.5000\n",
            "Epoch 5/10\n",
            "196/196 [==============================] - 16s 79ms/step - loss: 7.9712 - acc: 0.5000\n",
            "Epoch 6/10\n",
            "196/196 [==============================] - 15s 79ms/step - loss: 7.9712 - acc: 0.5000\n",
            "Epoch 7/10\n",
            "196/196 [==============================] - 15s 78ms/step - loss: 7.9712 - acc: 0.5000\n",
            "Epoch 8/10\n",
            "196/196 [==============================] - 15s 77ms/step - loss: 7.9712 - acc: 0.5000\n",
            "Epoch 9/10\n",
            "196/196 [==============================] - 15s 78ms/step - loss: 7.9712 - acc: 0.5000\n",
            "Epoch 10/10\n",
            "196/196 [==============================] - 15s 78ms/step - loss: 7.9712 - acc: 0.5000\n",
            "41/41 [==============================] - 1s 21ms/step\n",
            "              precision    recall  f1-score   support\n",
            "\n",
            "           0       0.00      0.00      0.00        29\n",
            "           1       0.29      1.00      0.45        12\n",
            "\n",
            "    accuracy                           0.29        41\n",
            "   macro avg       0.15      0.50      0.23        41\n",
            "weighted avg       0.09      0.29      0.13        41\n",
            "\n"
          ],
          "name": "stdout"
        },
        {
          "output_type": "stream",
          "text": [
            "/usr/local/lib/python3.6/dist-packages/sklearn/metrics/_classification.py:1272: UndefinedMetricWarning: Precision and F-score are ill-defined and being set to 0.0 in labels with no predicted samples. Use `zero_division` parameter to control this behavior.\n",
            "  _warn_prf(average, modifier, msg_start, len(result))\n"
          ],
          "name": "stderr"
        }
      ]
    },
    {
      "cell_type": "code",
      "metadata": {
        "id": "eCZ3TG-INPAj",
        "colab_type": "code",
        "colab": {}
      },
      "source": [
        "classifier.predict(X_test)"
      ],
      "execution_count": 0,
      "outputs": []
    },
    {
      "cell_type": "code",
      "metadata": {
        "id": "PaZk711JSjDm",
        "colab_type": "code",
        "colab": {}
      },
      "source": [
        "classifier = Sequential()\n",
        "\n",
        "# Step 1 - Convolution\n",
        "classifier.add(Conv1D(32, 3, input_shape = (6000, 74), activation = 'relu'))\n",
        "\n",
        "# Step 2 - Pooling\n",
        "classifier.add(MaxPooling1D(pool_size = 2))\n",
        "\n",
        "# Adding a second convolutional layer\n",
        "classifier.add(Conv1D(32, 3, activation = 'relu'))\n",
        "classifier.add(MaxPooling1D(pool_size = 2))\n",
        "\n",
        "# Step 3 - Flattening\n",
        "classifier.add(Flatten())\n",
        "\n",
        "# Step 4 - Full connection\n",
        "classifier.add(Dense(units = 128, activation = 'relu'))\n",
        "classifier.add(Dense(units = 1, activation = 'sigmoid'))\n",
        "\n",
        "# Compiling the CNN\n",
        "classifier.compile(optimizer = 'adam', loss = 'binary_crossentropy', metrics = ['accuracy'])\n"
      ],
      "execution_count": 0,
      "outputs": []
    },
    {
      "cell_type": "code",
      "metadata": {
        "id": "o0INvc-lR5yS",
        "colab_type": "code",
        "outputId": "72536d62-b822-4856-b809-6307ede45439",
        "colab": {
          "base_uri": "https://localhost:8080/",
          "height": 87
        }
      },
      "source": [
        "print(X_train.shape)\n",
        "print(Y_train.shape)\n",
        "print(X_test.shape)\n",
        "print(Y_test.shape)"
      ],
      "execution_count": 0,
      "outputs": [
        {
          "output_type": "stream",
          "text": [
            "(137, 6000, 74)\n",
            "(137,)\n",
            "(41, 6000, 74)\n",
            "(41,)\n"
          ],
          "name": "stdout"
        }
      ]
    },
    {
      "cell_type": "code",
      "metadata": {
        "id": "5U5S7wLjeoH2",
        "colab_type": "code",
        "outputId": "6c820fd7-045a-497e-a6e2-376b749e61b2",
        "colab": {
          "base_uri": "https://localhost:8080/",
          "height": 35
        }
      },
      "source": [
        "print(X_test.shape)"
      ],
      "execution_count": 0,
      "outputs": [
        {
          "output_type": "stream",
          "text": [
            "(10, 60000, 74)\n"
          ],
          "name": "stdout"
        }
      ]
    },
    {
      "cell_type": "code",
      "metadata": {
        "id": "WQx2LR4CeoLR",
        "colab_type": "code",
        "outputId": "1c5af79a-4b5e-45ca-fff5-f351e09ebad9",
        "colab": {
          "base_uri": "https://localhost:8080/",
          "height": 35
        }
      },
      "source": [
        "print(X_train.shape)"
      ],
      "execution_count": 0,
      "outputs": [
        {
          "output_type": "stream",
          "text": [
            "(20,)\n"
          ],
          "name": "stdout"
        }
      ]
    },
    {
      "cell_type": "code",
      "metadata": {
        "id": "bwzUYQgweLet",
        "colab_type": "code",
        "colab": {}
      },
      "source": [
        "classifier.fit(np.array([X_train]), Y_train, epochs=2)\n",
        "score = classifier.evaluate([X_test], Y_test)"
      ],
      "execution_count": 0,
      "outputs": []
    }
  ]
}