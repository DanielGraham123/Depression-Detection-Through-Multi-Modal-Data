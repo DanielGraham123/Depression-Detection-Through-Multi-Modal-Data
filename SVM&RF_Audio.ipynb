{
  "nbformat": 4,
  "nbformat_minor": 0,
  "metadata": {
    "colab": {
      "name": "MCA_Audio.ipynb",
      "provenance": [],
      "collapsed_sections": [],
      "include_colab_link": true
    },
    "kernelspec": {
      "name": "python3",
      "display_name": "Python 3"
    }
  },
  "cells": [
    {
      "cell_type": "markdown",
      "metadata": {
        "id": "view-in-github",
        "colab_type": "text"
      },
      "source": [
        "<a href=\"https://colab.research.google.com/github/notmanan/Depression-Detection-Through-Multi-Modal-Data/blob/master/MCA_Audio.ipynb\" target=\"_parent\"><img src=\"https://colab.research.google.com/assets/colab-badge.svg\" alt=\"Open In Colab\"/></a>"
      ]
    },
    {
      "cell_type": "code",
      "metadata": {
        "id": "L-VgasDSEeOC",
        "colab_type": "code",
        "outputId": "5f01cda1-2b71-4c5d-b0d1-fff4384aa129",
        "colab": {
          "base_uri": "https://localhost:8080/",
          "height": 124
        }
      },
      "source": [
        "#Mounting Colab with GDrive\n",
        "from google.colab import drive\n",
        "drive.mount('/content/drive')"
      ],
      "execution_count": 0,
      "outputs": [
        {
          "output_type": "stream",
          "text": [
            "Go to this URL in a browser: https://accounts.google.com/o/oauth2/auth?client_id=947318989803-6bn6qk8qdgf4n4g3pfee6491hc0brc4i.apps.googleusercontent.com&redirect_uri=urn%3aietf%3awg%3aoauth%3a2.0%3aoob&response_type=code&scope=email%20https%3a%2f%2fwww.googleapis.com%2fauth%2fdocs.test%20https%3a%2f%2fwww.googleapis.com%2fauth%2fdrive%20https%3a%2f%2fwww.googleapis.com%2fauth%2fdrive.photos.readonly%20https%3a%2f%2fwww.googleapis.com%2fauth%2fpeopleapi.readonly\n",
            "\n",
            "Enter your authorization code:\n",
            "··········\n",
            "Mounted at /content/drive\n"
          ],
          "name": "stdout"
        }
      ]
    },
    {
      "cell_type": "code",
      "metadata": {
        "id": "03mCRbU-KVIl",
        "colab_type": "code",
        "colab": {}
      },
      "source": [
        "import os\n",
        "os.chdir('drive/My Drive/MCA Dataset')\n"
      ],
      "execution_count": 0,
      "outputs": []
    },
    {
      "cell_type": "code",
      "metadata": {
        "id": "pMtx8AfdUev1",
        "colab_type": "code",
        "outputId": "210249fa-68a0-4394-d501-b2fc4242e68d",
        "colab": {
          "base_uri": "https://localhost:8080/",
          "height": 243
        }
      },
      "source": [
        "\n",
        "import numpy as np\n",
        "import pandas as pd \n",
        "from sklearn.ensemble import RandomForestClassifier\n",
        "\n",
        "def makedata(X):\n",
        "    for i in range(X.shape[0]):\n",
        "        if(X[i,1] == 0):\n",
        "            X[i,0] = 0\n",
        "            for j in range(7):\n",
        "                X[i,j+1] = 0\n",
        "    X = np.array(X)\n",
        "    X = np.average(X, axis = 0)\n",
        "    X = np.array(X.reshape(1, -1))\n",
        "    return X\n",
        "\n",
        "dev = np.array(pd.read_csv('/content/drive/My Drive/MCA Dataset/dev_split_Depression_AVEC2017.csv',delimiter=',',encoding='utf-8'))[:, 0:2]\n",
        "test = np.array(pd.read_csv('/content/drive/My Drive/MCA Dataset/full_test_split.csv',delimiter=',',encoding='utf-8'))[:, 0:2]\n",
        "train = np.array(pd.read_csv('/content/drive/My Drive/MCA Dataset/train_split_Depression_AVEC2017.csv',delimiter=',',encoding='utf-8'))[:, 0:2]\n",
        " \n",
        "\n",
        "X_train = np.zeros((1,74))\n",
        "Y_train = []\n",
        "\n",
        "X_test = np.zeros((1,74))\n",
        "Y_test = []\n",
        "\n",
        "for i in range(len(test)):\n",
        "    data = pd.read_csv('/content/drive/My Drive/MCA Dataset/test_data/'+str(int(test[i][0]))+\"_COVAREP.csv\",header = None)\n",
        "    X_temp = data.iloc[:,:].values\n",
        "    X_temp = makedata(X_temp)\n",
        "    X_test = np.concatenate((X_test,X_temp),0)\n",
        "    Y_test.append(test[i][1])\n",
        "    \n",
        "\n",
        "X_test = np.delete(X_test,0,0)\n",
        "Y_test = np.array(Y_test)\n",
        "count_0 = 0\n",
        "count_1 = 0\n",
        "\n",
        "for i in range(len(train)):\n",
        "    data = pd.read_csv('/content/drive/My Drive/MCA Dataset/train_data/'+str(int(train[i][0]))+\"_COVAREP.csv\",header = None)\n",
        "    if(train[i][1] == 0):\n",
        "      count_0 +=1\n",
        "      if(count_0<27):\n",
        "        X_temp = data.iloc[:,:].values\n",
        "        X_temp = makedata(X_temp)\n",
        "        X_train = np.concatenate((X_train,X_temp),0)\n",
        "        Y_train.append(train[i][1])\n",
        "    else:\n",
        "      count_1 +=1\n",
        "      if(count_1<27):\n",
        "        X_temp = data.iloc[:,:].values\n",
        "        X_temp = makedata(X_temp)\n",
        "        X_train = np.concatenate((X_train,X_temp),0)\n",
        "        Y_train.append(train[i][1])\n",
        "\n",
        "count_0 = 0\n",
        "count_1 = 0    \n",
        "\n",
        "for i in range(len(dev)):\n",
        "    data = pd.read_csv('/content/drive/My Drive/MCA Dataset/dev_data/'+str(int(dev[i][0]))+\"_COVAREP.csv\",header = None)\n",
        "    if(dev[i][1] == 0):\n",
        "      count_0 += 1\n",
        "      if(count_0<27):\n",
        "        X_temp = data.iloc[:,:].values\n",
        "        X_temp = makedata(X_temp)\n",
        "        X_train = np.concatenate((X_train,X_temp),0)\n",
        "        Y_train.append(dev[i][1])\n",
        "    else:\n",
        "      count_1+= 1\n",
        "      if(count_1<27):\n",
        "        X_temp = data.iloc[:,:].values\n",
        "        X_temp = makedata(X_temp)\n",
        "        X_train = np.concatenate((X_train,X_temp),0)\n",
        "        Y_train.append(dev[i][1])\n",
        "    \n",
        "\n",
        "X_train = np.delete(X_train,0,0)\n",
        "Y_train = np.array(Y_train)\n",
        "    \n",
        "clf1 = RandomForestClassifier()\n",
        "clf1.fit(X_train,Y_train)\n",
        "clf1.predict(X_test)\n",
        "print(\"Random forest: \"+ str(clf1.score(X_test,Y_test)))\n",
        "\n",
        "from sklearn.svm import SVC\n",
        "\n",
        "\n",
        "classifier = SVC(kernel = 'rbf', random_state = 0)\n",
        "classifier.fit(X_train, Y_train)\n",
        "classifier.predict(X_test)\n",
        "print(\"SVM: \"+ str(classifier.score(X_test,Y_test)))\n",
        "\n",
        "clf1.predict(X_train)\n",
        "print(\"Random forest: train\"+ str(clf1.score(X_train,Y_train)))\n",
        "\n",
        "classifier.predict(X_train)\n",
        "print(\"SVM: train  \"+ str(classifier.score(X_train,Y_train)))\n",
        "\n",
        "from sklearn.metrics import classification_report\n",
        "y_pred = classifier.predict(X_test)\n",
        "print(classification_report(Y_test, y_pred))\n"
      ],
      "execution_count": 0,
      "outputs": [
        {
          "output_type": "stream",
          "text": [
            "Random forest: 0.6097560975609756\n",
            "SVM: 0.5853658536585366\n",
            "Random forest: train1.0\n",
            "SVM: train  0.6162790697674418\n",
            "              precision    recall  f1-score   support\n",
            "\n",
            "           0       0.70      0.72      0.71        29\n",
            "           1       0.27      0.25      0.26        12\n",
            "\n",
            "    accuracy                           0.59        41\n",
            "   macro avg       0.49      0.49      0.49        41\n",
            "weighted avg       0.57      0.59      0.58        41\n",
            "\n"
          ],
          "name": "stdout"
        }
      ]
    },
    {
      "cell_type": "code",
      "metadata": {
        "id": "XKmR6Vmnb78J",
        "colab_type": "code",
        "colab": {}
      },
      "source": [
        "from sklearn.metrics import classification_report\n",
        "y_pred = classifier.predict(X_test)\n",
        "print(classification_report(Y_test, y_pred))"
      ],
      "execution_count": 0,
      "outputs": []
    }
  ]
}
