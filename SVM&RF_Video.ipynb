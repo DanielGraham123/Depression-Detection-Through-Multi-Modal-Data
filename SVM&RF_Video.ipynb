{
  "nbformat": 4,
  "nbformat_minor": 0,
  "metadata": {
    "colab": {
      "name": "MCA_Video.ipynb",
      "provenance": [],
      "collapsed_sections": [],
      "include_colab_link": true
    },
    "kernelspec": {
      "name": "python3",
      "display_name": "Python 3"
    }
  },
  "cells": [
    {
      "cell_type": "markdown",
      "metadata": {
        "id": "view-in-github",
        "colab_type": "text"
      },
      "source": [
        "<a href=\"https://colab.research.google.com/github/notmanan/Depression-Detection-Through-Multi-Modal-Data/blob/master/MCA_Video.ipynb\" target=\"_parent\"><img src=\"https://colab.research.google.com/assets/colab-badge.svg\" alt=\"Open In Colab\"/></a>"
      ]
    },
    {
      "cell_type": "markdown",
      "metadata": {
        "id": "ncPer7MulwaY",
        "colab_type": "text"
      },
      "source": [
        "**Connecting Drive to Google Colab**"
      ]
    },
    {
      "cell_type": "code",
      "metadata": {
        "id": "4FkprWXdn7N3",
        "colab_type": "code",
        "outputId": "1c03e054-521b-4fa7-de05-b7ed552c57f5",
        "colab": {
          "base_uri": "https://localhost:8080/",
          "height": 125
        }
      },
      "source": [
        "from google.colab import drive\n",
        "drive.mount('/content/drive')"
      ],
      "execution_count": 0,
      "outputs": [
        {
          "output_type": "stream",
          "text": [
            "Go to this URL in a browser: https://accounts.google.com/o/oauth2/auth?client_id=947318989803-6bn6qk8qdgf4n4g3pfee6491hc0brc4i.apps.googleusercontent.com&redirect_uri=urn%3aietf%3awg%3aoauth%3a2.0%3aoob&response_type=code&scope=email%20https%3a%2f%2fwww.googleapis.com%2fauth%2fdocs.test%20https%3a%2f%2fwww.googleapis.com%2fauth%2fdrive%20https%3a%2f%2fwww.googleapis.com%2fauth%2fdrive.photos.readonly%20https%3a%2f%2fwww.googleapis.com%2fauth%2fpeopleapi.readonly\n",
            "\n",
            "Enter your authorization code:\n",
            "··········\n",
            "Mounted at /content/drive\n"
          ],
          "name": "stdout"
        }
      ]
    },
    {
      "cell_type": "markdown",
      "metadata": {
        "id": "J9ZapOLwl70D",
        "colab_type": "text"
      },
      "source": [
        "**Loading, Data Preprocessing for video**"
      ]
    },
    {
      "cell_type": "code",
      "metadata": {
        "id": "Dzxb5JsroQ5y",
        "colab_type": "code",
        "outputId": "acaf5915-6e03-454b-aa5c-1aa1cf513284",
        "colab": {
          "base_uri": "https://localhost:8080/",
          "height": 193
        }
      },
      "source": [
        "from sklearn.ensemble import RandomForestClassifier\n",
        "import pandas as pd\n",
        "import numpy as np\n",
        "\n",
        "def processData(data):\n",
        "    # print(data)\n",
        "    X = data.iloc[:,:].values\n",
        "    X = np.delete(X, 0, 1)\n",
        "    X = np.delete(X, 1, 1)\n",
        "    X = np.mean(X, 0)\n",
        "    X = np.array(X.reshape(1, -1))\n",
        "    # print(X)\n",
        "    # print(X.shape)\n",
        "    return X\n",
        "\n",
        "def getData(filename):\n",
        "    # print(filename)\n",
        "    data = pd.read_csv(filename,delimiter=',')\n",
        "    X = processData(data)\n",
        "    return X\n",
        "\n",
        "def makeDataPoint(patientNo):\n",
        "    file1 = (patientNo)+\"_CLNF_AUs.txt\"\n",
        "    file2 = (patientNo)+\"_CLNF_features.txt\"\n",
        "    file3 = (patientNo)+\"_CLNF_features3D.txt\"\n",
        "    file4 = (patientNo)+\"_CLNF_gaze.txt\"\n",
        "    file5 = (patientNo)+\"_CLNF_hog.txt\"\n",
        "    file6 = (patientNo)+\"_CLNF_pose.txt\"\n",
        "\n",
        "    X1 = getData(file1)\n",
        "    X2 = getData(file2)\n",
        "    X3 = getData(file3)\n",
        "    X4 = getData(file4)\n",
        "    # X5 = getData(file5)\n",
        "    X6 = getData(file6)\n",
        "\n",
        "    X = np.concatenate((X1, X2, X3, X4, X6), 1)\n",
        "    return X\n",
        "\n",
        "\n",
        "dataset1 = np.array(pd.read_csv('/content/drive/My Drive/MCA Dataset/dev_split_Depression_AVEC2017.csv',delimiter=',',encoding='utf-8'))[:, 0:2]\n",
        "dataset2 = np.array(pd.read_csv('/content/drive/My Drive/MCA Dataset/full_test_split.csv',delimiter=',',encoding='utf-8'))[:, 0:2]\n",
        "dataset3 = np.array(pd.read_csv('/content/drive/My Drive/MCA Dataset/train_split_Depression_AVEC2017.csv',delimiter=',',encoding='utf-8'))[:, 0:2]\n",
        "\n",
        "dataset = np.concatenate((dataset1, np.concatenate((dataset2, dataset3))))\n",
        "positive = []\n",
        "negative = []\n",
        "\n",
        "for i in range(len(dataset)):\n",
        "    if dataset[i][0]<=310 and dataset[i][0]>=300:\n",
        "        if(dataset[i][1] == 0):\n",
        "            positive.append(int(dataset[i][0]))\n",
        "        else:\n",
        "            negative.append(int(dataset[i][0]))\n",
        "\n",
        "    elif dataset[i][0]<=355 and dataset[i][0]>=345:\n",
        "        if(dataset[i][1] == 0):\n",
        "            positive.append(int(dataset[i][0]))\n",
        "        else:\n",
        "            negative.append(int(dataset[i][0]))\n",
        "\n",
        "X = np.zeros((1,388))\n",
        "for i in positive:\n",
        "    string = '/content/drive/My Drive/MCA Dataset/positive_data/'+str(i)\n",
        "    X_temp = makeDataPoint(string)\n",
        "    X = np.concatenate((X,X_temp),0)\n",
        "Y = np.zeros((len(positive),1))\n",
        "for i in negative:\n",
        "    string = '/content/drive/My Drive/MCA Dataset/negative_data/'+str(i)\n",
        "    X_temp = makeDataPoint(string)\n",
        "    X = np.concatenate((X,X_temp),0)\n",
        "Y = np.concatenate((Y,np.ones((len(negative),1))),0)\n",
        "X = np.delete(X,0,0)"
      ],
      "execution_count": 0,
      "outputs": [
        {
          "output_type": "stream",
          "text": [
            "/usr/local/lib/python3.6/dist-packages/ipykernel_launcher.py:80: DataConversionWarning: A column-vector y was passed when a 1d array was expected. Please change the shape of y to (n_samples,), for example using ravel().\n"
          ],
          "name": "stderr"
        },
        {
          "output_type": "execute_result",
          "data": {
            "text/plain": [
              "RandomForestClassifier(bootstrap=True, ccp_alpha=0.0, class_weight=None,\n",
              "                       criterion='gini', max_depth=None, max_features='auto',\n",
              "                       max_leaf_nodes=None, max_samples=None,\n",
              "                       min_impurity_decrease=0.0, min_impurity_split=None,\n",
              "                       min_samples_leaf=1, min_samples_split=2,\n",
              "                       min_weight_fraction_leaf=0.0, n_estimators=100,\n",
              "                       n_jobs=None, oob_score=False, random_state=None,\n",
              "                       verbose=0, warm_start=False)"
            ]
          },
          "metadata": {
            "tags": []
          },
          "execution_count": 2
        }
      ]
    },
    {
      "cell_type": "markdown",
      "metadata": {
        "id": "padperlL6-ri",
        "colab_type": "text"
      },
      "source": [
        "**RF and SVM on dataset**"
      ]
    },
    {
      "cell_type": "code",
      "metadata": {
        "id": "ClUVyIzMXre8",
        "colab_type": "code",
        "outputId": "21c0625f-9a73-4c37-8806-1eef452e39ed",
        "colab": {
          "base_uri": "https://localhost:8080/",
          "height": 442
        }
      },
      "source": [
        "print(\"train\")\n",
        "X_train, Y_train = makeDataset('/content/drive/My Drive/MCA Dataset/train_split_Depression_AVEC2017.csv', 'train_data')\n",
        "print(\"dev\")\n",
        "X_dev, Y_dev = makeDataset('/content/drive/My Drive/MCA Dataset/dev_split_Depression_AVEC2017.csv', 'dev_data')\n",
        "count0 = 0\n",
        "X_train = np.concatenate((X_train, X_dev), 0  )\n",
        "Y_train = np.concatenate((Y_train, Y_dev), 0  )\n",
        "\n",
        "print(\"test\")\n",
        "X_test, Y_test = makeDataset('/content/drive/My Drive/MCA Dataset/full_test_split.csv', 'test_data')\n",
        "\n",
        "print(Y_train)\n",
        "\n",
        "clf1 = RandomForestClassifier()\n",
        "clf1.fit(X_train,Y_train)\n",
        "clf1.predict(X_test)\n",
        "print(\"Random forest: \"+ str(clf1.score(X_test,Y_test)))\n",
        "\n",
        "from sklearn.svm import SVC\n",
        "classifier2 = SVC(kernel = 'rbf', random_state = 0)\n",
        "classifier2.fit(X_train, Y_train)\n",
        "classifier2.predict(X_test)\n",
        "print(\"SVM rbf: \"+ str(classifier2.score(X_test,Y_test)))\n",
        "\n",
        "clf1.predict(X_train)\n",
        "print(\"Random forest: train\"+ str(clf1.score(X_train,Y_train)))\n",
        "\n",
        "classifier2.predict(X_train)\n",
        "print(\"SVM: train  \"+ str(classifier2.score(X_train,Y_train)))\n",
        "\n",
        "\n",
        "from sklearn.metrics import classification_report\n",
        "y_pred = classifier2.predict(X_test)\n",
        "print(classification_report(Y_test, y_pred))"
      ],
      "execution_count": 0,
      "outputs": [
        {
          "output_type": "stream",
          "text": [
            "train\n",
            "dev\n"
          ],
          "name": "stdout"
        },
        {
          "output_type": "stream",
          "text": [
            "/usr/local/lib/python3.6/dist-packages/ipykernel_launcher.py:110: DtypeWarning: Columns (4,5,6,7,8,9,10,11,12,13,14,15,16,17,18,19,20,21,22,23,24,25,26,27,28,29,30,31,32,33,34,35,36,37,38,39,40,41,42,43,44,45,46,47,48,49,50,51,52,53,54,55,56,57,58,59,60,61,62,63,64,65,66,67,68,69,70,71,72,73,74,75,76,77,78,79,80,81,82,83,84,85,86,87,88,89,90,91,92,93,94,95,96,97,98,99,100,101,102,103,104,105,106,107,108,109,110,111,112,113,114,115,116,117,118,119,120,121,122,123,124,125,126,127,128,129,130,131,132,133,134,135,136,137,138,139) have mixed types. Specify dtype option on import or set low_memory=False.\n",
            "/usr/local/lib/python3.6/dist-packages/ipykernel_launcher.py:110: DtypeWarning: Columns (4,5,6,7,8,9,10,11,12,13,14,15,16,17,18,19,20,21,22,23,24,25,26,27,28,29,30,31,32,33,34,35,36,37,38,39,40,41,42,43,44,45,46,47,48,49,50,51,52,53,54,55,56,57,58,59,60,61,62,63,64,65,66,67,68,69,70,71,72,73,74,75,76,77,78,79,80,81,82,83,84,85,86,87,88,89,90,91,92,93,94,95,96,97,98,99,100,101,102,103,104,105,106,107,108,109,110,111,112,113,114,115,116,117,118,119,120,121,122,123,124,125,126,127,128,129,130,131,132,133,134,135,136,137,138,139,140,141,142,143,144,145,146,147,148,149,150,151,152,153,154,155,156,157,158,159,160,161,162,163,164,165,166,167,168,169,170,171,172,173,174,175,176,177,178,179,180,181,182,183,184,185,186,187,188,189,190,191,192,193,194,195,196,197,198,199,200,201,202,203,204,205,206,207) have mixed types. Specify dtype option on import or set low_memory=False.\n"
          ],
          "name": "stderr"
        },
        {
          "output_type": "stream",
          "text": [
            "test\n"
          ],
          "name": "stdout"
        },
        {
          "output_type": "stream",
          "text": [
            "/usr/local/lib/python3.6/dist-packages/ipykernel_launcher.py:116: DtypeWarning: Columns (4,5,6,7,8,9,10,11,12,13,14,15,16,17,18,19,20,21,22,23,24,25,26,27,28,29,30,31,32,33,34,35,36,37,38,39,40,41,42,43,44,45,46,47,48,49,50,51,52,53,54,55,56,57,58,59,60,61,62,63,64,65,66,67,68,69,70,71,72,73,74,75,76,77,78,79,80,81,82,83,84,85,86,87,88,89,90,91,92,93,94,95,96,97,98,99,100,101,102,103,104,105,106,107,108,109,110,111,112,113,114,115,116,117,118,119,120,121,122,123,124,125,126,127,128,129,130,131,132,133,134,135,136,137,138,139) have mixed types. Specify dtype option on import or set low_memory=False.\n",
            "/usr/local/lib/python3.6/dist-packages/ipykernel_launcher.py:116: DtypeWarning: Columns (4,5,6,7,8,9,10,11,12,13,14,15,16,17,18,19,20,21,22,23,24,25,26,27,28,29,30,31,32,33,34,35,36,37,38,39,40,41,42,43,44,45,46,47,48,49,50,51,52,53,54,55,56,57,58,59,60,61,62,63,64,65,66,67,68,69,70,71,72,73,74,75,76,77,78,79,80,81,82,83,84,85,86,87,88,89,90,91,92,93,94,95,96,97,98,99,100,101,102,103,104,105,106,107,108,109,110,111,112,113,114,115,116,117,118,119,120,121,122,123,124,125,126,127,128,129,130,131,132,133,134,135,136,137,138,139,140,141,142,143,144,145,146,147,148,149,150,151,152,153,154,155,156,157,158,159,160,161,162,163,164,165,166,167,168,169,170,171,172,173,174,175,176,177,178,179,180,181,182,183,184,185,186,187,188,189,190,191,192,193,194,195,196,197,198,199,200,201,202,203,204,205,206,207) have mixed types. Specify dtype option on import or set low_memory=False.\n"
          ],
          "name": "stderr"
        },
        {
          "output_type": "stream",
          "text": [
            "[0 0 0 0 0 0 0 0 0 0 1 1 1 0 0 1 0 0 0 1 0 0 1 1 0 0 0 1 1 1 1 1 1 1 1 1 1\n",
            " 0 0 0 1 0 0 0 0 0 0 0 1 0 0 1 0 1 0 0 1 0 0 0 0 1 1 1 1 1 1 1 1 1 1 1 1 1\n",
            " 1 1 1 1]\n",
            "Random forest: 0.5121951219512195\n",
            "SVM rbf: 0.3170731707317073\n",
            "Random forest: train1.0\n",
            "SVM: train  0.5384615384615384\n",
            "              precision    recall  f1-score   support\n",
            "\n",
            "           0       0.60      0.10      0.18        29\n",
            "           1       0.28      0.83      0.42        12\n",
            "\n",
            "    accuracy                           0.32        41\n",
            "   macro avg       0.44      0.47      0.30        41\n",
            "weighted avg       0.51      0.32      0.25        41\n",
            "\n"
          ],
          "name": "stdout"
        }
      ]
    },
    {
      "cell_type": "code",
      "metadata": {
        "id": "6Nfp9VCCgvFG",
        "colab_type": "code",
        "colab": {}
      },
      "source": [
        "import nltk"
      ],
      "execution_count": 0,
      "outputs": []
    },
    {
      "cell_type": "code",
      "metadata": {
        "id": "J56vSuUxT9Mb",
        "colab_type": "code",
        "colab": {}
      },
      "source": [
        "X_train = np.concatenate((X_train, X_dev), 0  )\n",
        "Y_train = np.concatenate((Y_train, Y_dev), 0  )\n",
        "count0=0\n",
        "print(\"test\")\n",
        "X_test, Y_test = makeDataset('/content/drive/My Drive/MCA Dataset/full_test_split.csv', 'test_data')\n",
        "\n",
        "print(Y_train)\n",
        "\n",
        "clf1 = RandomForestClassifier()\n",
        "clf1.fit(X_train,Y_train)\n",
        "clf1.predict(X_test)\n",
        "print(\"Random forest: \"+ str(clf1.score(X_test,Y_test)))\n",
        "\n",
        "from sklearn.svm import SVC\n",
        "classifier2 = SVC(kernel = 'rbf', random_state = 0)\n",
        "classifier2.fit(X_train, Y_train)\n",
        "classifier2.predict(X_test)\n",
        "print(\"SVM rbf: \"+ str(classifier2.score(X_test,Y_test)))\n",
        "\n",
        "clf1.predict(X_train)\n",
        "print(\"Random forest: train\"+ str(clf1.score(X_train,Y_train)))\n",
        "\n",
        "classifier2.predict(X_train)\n",
        "print(\"SVM: train  \"+ str(classifier2.score(X_train,Y_train)))\n",
        "\n",
        "\n",
        "from sklearn.metrics import classification_report\n",
        "y_pred = classifier2.predict(X_test)\n",
        "print(classification_report(Y_test, y_pred))"
      ],
      "execution_count": 0,
      "outputs": []
    }
  ]
}
